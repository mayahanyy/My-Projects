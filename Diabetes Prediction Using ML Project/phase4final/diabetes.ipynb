{
 "cells": [
  {
   "cell_type": "code",
   "execution_count": 1,
   "metadata": {
    "id": "5xMcWAJgkgoY"
   },
   "outputs": [],
   "source": [
    "import pandas as pd\n",
    "import numpy as np\n",
    "import matplotlib.pyplot as plt\n",
    "import seaborn as sns"
   ]
  },
  {
   "cell_type": "code",
   "execution_count": 2,
   "metadata": {
    "id": "X5-dZ2tllBV5"
   },
   "outputs": [],
   "source": [
    "data= pd.read_csv('final_dataset_phase2.csv')"
   ]
  },
  {
   "cell_type": "code",
   "execution_count": 3,
   "metadata": {
    "colab": {
     "base_uri": "https://localhost:8080/",
     "height": 423
    },
    "id": "-r805n2ZlLsT",
    "outputId": "e42ba5d7-cf54-4b4e-fdc6-640e0e6dddfb"
   },
   "outputs": [
    {
     "data": {
      "text/html": [
       "<div>\n",
       "<style scoped>\n",
       "    .dataframe tbody tr th:only-of-type {\n",
       "        vertical-align: middle;\n",
       "    }\n",
       "\n",
       "    .dataframe tbody tr th {\n",
       "        vertical-align: top;\n",
       "    }\n",
       "\n",
       "    .dataframe thead th {\n",
       "        text-align: right;\n",
       "    }\n",
       "</style>\n",
       "<table border=\"1\" class=\"dataframe\">\n",
       "  <thead>\n",
       "    <tr style=\"text-align: right;\">\n",
       "      <th></th>\n",
       "      <th>Pregnancies</th>\n",
       "      <th>Glucose</th>\n",
       "      <th>SkinThickness</th>\n",
       "      <th>Insulin</th>\n",
       "      <th>Age</th>\n",
       "      <th>BMIxThickness</th>\n",
       "      <th>BMIxAge</th>\n",
       "      <th>Outcome</th>\n",
       "    </tr>\n",
       "  </thead>\n",
       "  <tbody>\n",
       "    <tr>\n",
       "      <th>0</th>\n",
       "      <td>0.058824</td>\n",
       "      <td>0.232258</td>\n",
       "      <td>0.043478</td>\n",
       "      <td>0.055288</td>\n",
       "      <td>0.016667</td>\n",
       "      <td>0.053481</td>\n",
       "      <td>0.120010</td>\n",
       "      <td>0</td>\n",
       "    </tr>\n",
       "    <tr>\n",
       "      <th>1</th>\n",
       "      <td>0.117647</td>\n",
       "      <td>0.483871</td>\n",
       "      <td>0.217391</td>\n",
       "      <td>0.106370</td>\n",
       "      <td>0.850000</td>\n",
       "      <td>0.108738</td>\n",
       "      <td>0.444531</td>\n",
       "      <td>0</td>\n",
       "    </tr>\n",
       "    <tr>\n",
       "      <th>2</th>\n",
       "      <td>0.588235</td>\n",
       "      <td>0.458065</td>\n",
       "      <td>0.271739</td>\n",
       "      <td>0.186899</td>\n",
       "      <td>0.150000</td>\n",
       "      <td>0.266408</td>\n",
       "      <td>0.279419</td>\n",
       "      <td>1</td>\n",
       "    </tr>\n",
       "    <tr>\n",
       "      <th>3</th>\n",
       "      <td>0.058824</td>\n",
       "      <td>0.883871</td>\n",
       "      <td>0.380435</td>\n",
       "      <td>0.335337</td>\n",
       "      <td>0.016667</td>\n",
       "      <td>0.427961</td>\n",
       "      <td>0.215051</td>\n",
       "      <td>1</td>\n",
       "    </tr>\n",
       "    <tr>\n",
       "      <th>4</th>\n",
       "      <td>0.235294</td>\n",
       "      <td>0.341935</td>\n",
       "      <td>0.173913</td>\n",
       "      <td>0.106370</td>\n",
       "      <td>0.016667</td>\n",
       "      <td>0.141859</td>\n",
       "      <td>0.102903</td>\n",
       "      <td>0</td>\n",
       "    </tr>\n",
       "    <tr>\n",
       "      <th>...</th>\n",
       "      <td>...</td>\n",
       "      <td>...</td>\n",
       "      <td>...</td>\n",
       "      <td>...</td>\n",
       "      <td>...</td>\n",
       "      <td>...</td>\n",
       "      <td>...</td>\n",
       "      <td>...</td>\n",
       "    </tr>\n",
       "    <tr>\n",
       "      <th>763</th>\n",
       "      <td>0.411765</td>\n",
       "      <td>0.864516</td>\n",
       "      <td>0.271739</td>\n",
       "      <td>0.186899</td>\n",
       "      <td>0.333333</td>\n",
       "      <td>0.316117</td>\n",
       "      <td>0.541602</td>\n",
       "      <td>1</td>\n",
       "    </tr>\n",
       "    <tr>\n",
       "      <th>764</th>\n",
       "      <td>0.176471</td>\n",
       "      <td>0.541935</td>\n",
       "      <td>0.217391</td>\n",
       "      <td>0.106370</td>\n",
       "      <td>0.566667</td>\n",
       "      <td>0.119972</td>\n",
       "      <td>0.336228</td>\n",
       "      <td>0</td>\n",
       "    </tr>\n",
       "    <tr>\n",
       "      <th>765</th>\n",
       "      <td>0.294118</td>\n",
       "      <td>0.283871</td>\n",
       "      <td>0.250000</td>\n",
       "      <td>0.106370</td>\n",
       "      <td>0.266667</td>\n",
       "      <td>0.191623</td>\n",
       "      <td>0.276050</td>\n",
       "      <td>0</td>\n",
       "    </tr>\n",
       "    <tr>\n",
       "      <th>766</th>\n",
       "      <td>0.176471</td>\n",
       "      <td>0.277419</td>\n",
       "      <td>0.119565</td>\n",
       "      <td>0.106370</td>\n",
       "      <td>0.000000</td>\n",
       "      <td>0.070791</td>\n",
       "      <td>0.032659</td>\n",
       "      <td>0</td>\n",
       "    </tr>\n",
       "    <tr>\n",
       "      <th>767</th>\n",
       "      <td>0.411765</td>\n",
       "      <td>0.922581</td>\n",
       "      <td>0.347826</td>\n",
       "      <td>0.348558</td>\n",
       "      <td>0.333333</td>\n",
       "      <td>0.369792</td>\n",
       "      <td>0.502635</td>\n",
       "      <td>1</td>\n",
       "    </tr>\n",
       "  </tbody>\n",
       "</table>\n",
       "<p>768 rows × 8 columns</p>\n",
       "</div>"
      ],
      "text/plain": [
       "     Pregnancies   Glucose  SkinThickness   Insulin       Age  BMIxThickness  \\\n",
       "0       0.058824  0.232258       0.043478  0.055288  0.016667       0.053481   \n",
       "1       0.117647  0.483871       0.217391  0.106370  0.850000       0.108738   \n",
       "2       0.588235  0.458065       0.271739  0.186899  0.150000       0.266408   \n",
       "3       0.058824  0.883871       0.380435  0.335337  0.016667       0.427961   \n",
       "4       0.235294  0.341935       0.173913  0.106370  0.016667       0.141859   \n",
       "..           ...       ...            ...       ...       ...            ...   \n",
       "763     0.411765  0.864516       0.271739  0.186899  0.333333       0.316117   \n",
       "764     0.176471  0.541935       0.217391  0.106370  0.566667       0.119972   \n",
       "765     0.294118  0.283871       0.250000  0.106370  0.266667       0.191623   \n",
       "766     0.176471  0.277419       0.119565  0.106370  0.000000       0.070791   \n",
       "767     0.411765  0.922581       0.347826  0.348558  0.333333       0.369792   \n",
       "\n",
       "      BMIxAge  Outcome  \n",
       "0    0.120010        0  \n",
       "1    0.444531        0  \n",
       "2    0.279419        1  \n",
       "3    0.215051        1  \n",
       "4    0.102903        0  \n",
       "..        ...      ...  \n",
       "763  0.541602        1  \n",
       "764  0.336228        0  \n",
       "765  0.276050        0  \n",
       "766  0.032659        0  \n",
       "767  0.502635        1  \n",
       "\n",
       "[768 rows x 8 columns]"
      ]
     },
     "execution_count": 3,
     "metadata": {},
     "output_type": "execute_result"
    }
   ],
   "source": [
    "data"
   ]
  },
  {
   "cell_type": "code",
   "execution_count": 7,
   "metadata": {
    "colab": {
     "base_uri": "https://localhost:8080/",
     "height": 300
    },
    "id": "5UoRlrWMlNTd",
    "outputId": "49faf22d-e9fb-44eb-a31d-f294e7a31f9e"
   },
   "outputs": [
    {
     "data": {
      "text/html": [
       "<div>\n",
       "<style scoped>\n",
       "    .dataframe tbody tr th:only-of-type {\n",
       "        vertical-align: middle;\n",
       "    }\n",
       "\n",
       "    .dataframe tbody tr th {\n",
       "        vertical-align: top;\n",
       "    }\n",
       "\n",
       "    .dataframe thead th {\n",
       "        text-align: right;\n",
       "    }\n",
       "</style>\n",
       "<table border=\"1\" class=\"dataframe\">\n",
       "  <thead>\n",
       "    <tr style=\"text-align: right;\">\n",
       "      <th></th>\n",
       "      <th>Pregnancies</th>\n",
       "      <th>Glucose</th>\n",
       "      <th>SkinThickness</th>\n",
       "      <th>Insulin</th>\n",
       "      <th>Age</th>\n",
       "      <th>BMIxThickness</th>\n",
       "      <th>BMIxAge</th>\n",
       "      <th>Outcome</th>\n",
       "    </tr>\n",
       "  </thead>\n",
       "  <tbody>\n",
       "    <tr>\n",
       "      <th>count</th>\n",
       "      <td>268.000000</td>\n",
       "      <td>268.000000</td>\n",
       "      <td>268.000000</td>\n",
       "      <td>268.000000</td>\n",
       "      <td>268.000000</td>\n",
       "      <td>268.000000</td>\n",
       "      <td>268.000000</td>\n",
       "      <td>268.0</td>\n",
       "    </tr>\n",
       "    <tr>\n",
       "      <th>mean</th>\n",
       "      <td>0.286216</td>\n",
       "      <td>0.634208</td>\n",
       "      <td>0.279040</td>\n",
       "      <td>0.208673</td>\n",
       "      <td>0.267786</td>\n",
       "      <td>0.289330</td>\n",
       "      <td>0.395828</td>\n",
       "      <td>1.0</td>\n",
       "    </tr>\n",
       "    <tr>\n",
       "      <th>std</th>\n",
       "      <td>0.220073</td>\n",
       "      <td>0.190250</td>\n",
       "      <td>0.092056</td>\n",
       "      <td>0.113118</td>\n",
       "      <td>0.182804</td>\n",
       "      <td>0.127671</td>\n",
       "      <td>0.175484</td>\n",
       "      <td>0.0</td>\n",
       "    </tr>\n",
       "    <tr>\n",
       "      <th>min</th>\n",
       "      <td>0.000000</td>\n",
       "      <td>0.219355</td>\n",
       "      <td>0.000000</td>\n",
       "      <td>0.000000</td>\n",
       "      <td>0.000000</td>\n",
       "      <td>0.015534</td>\n",
       "      <td>0.062424</td>\n",
       "      <td>1.0</td>\n",
       "    </tr>\n",
       "    <tr>\n",
       "      <th>25%</th>\n",
       "      <td>0.102941</td>\n",
       "      <td>0.483871</td>\n",
       "      <td>0.250000</td>\n",
       "      <td>0.186899</td>\n",
       "      <td>0.116667</td>\n",
       "      <td>0.221123</td>\n",
       "      <td>0.253013</td>\n",
       "      <td>1.0</td>\n",
       "    </tr>\n",
       "    <tr>\n",
       "      <th>50%</th>\n",
       "      <td>0.235294</td>\n",
       "      <td>0.619355</td>\n",
       "      <td>0.271739</td>\n",
       "      <td>0.186899</td>\n",
       "      <td>0.250000</td>\n",
       "      <td>0.263759</td>\n",
       "      <td>0.386038</td>\n",
       "      <td>1.0</td>\n",
       "    </tr>\n",
       "    <tr>\n",
       "      <th>75%</th>\n",
       "      <td>0.470588</td>\n",
       "      <td>0.793548</td>\n",
       "      <td>0.315217</td>\n",
       "      <td>0.186899</td>\n",
       "      <td>0.383333</td>\n",
       "      <td>0.342746</td>\n",
       "      <td>0.501847</td>\n",
       "      <td>1.0</td>\n",
       "    </tr>\n",
       "    <tr>\n",
       "      <th>max</th>\n",
       "      <td>1.000000</td>\n",
       "      <td>1.000000</td>\n",
       "      <td>1.000000</td>\n",
       "      <td>1.000000</td>\n",
       "      <td>0.816667</td>\n",
       "      <td>1.000000</td>\n",
       "      <td>0.949240</td>\n",
       "      <td>1.0</td>\n",
       "    </tr>\n",
       "  </tbody>\n",
       "</table>\n",
       "</div>"
      ],
      "text/plain": [
       "       Pregnancies     Glucose  SkinThickness     Insulin         Age  \\\n",
       "count   268.000000  268.000000     268.000000  268.000000  268.000000   \n",
       "mean      0.286216    0.634208       0.279040    0.208673    0.267786   \n",
       "std       0.220073    0.190250       0.092056    0.113118    0.182804   \n",
       "min       0.000000    0.219355       0.000000    0.000000    0.000000   \n",
       "25%       0.102941    0.483871       0.250000    0.186899    0.116667   \n",
       "50%       0.235294    0.619355       0.271739    0.186899    0.250000   \n",
       "75%       0.470588    0.793548       0.315217    0.186899    0.383333   \n",
       "max       1.000000    1.000000       1.000000    1.000000    0.816667   \n",
       "\n",
       "       BMIxThickness     BMIxAge  Outcome  \n",
       "count     268.000000  268.000000    268.0  \n",
       "mean        0.289330    0.395828      1.0  \n",
       "std         0.127671    0.175484      0.0  \n",
       "min         0.015534    0.062424      1.0  \n",
       "25%         0.221123    0.253013      1.0  \n",
       "50%         0.263759    0.386038      1.0  \n",
       "75%         0.342746    0.501847      1.0  \n",
       "max         1.000000    0.949240      1.0  "
      ]
     },
     "execution_count": 7,
     "metadata": {},
     "output_type": "execute_result"
    }
   ],
   "source": [
    "data[data['Outcome'] == 1].describe()"
   ]
  },
  {
   "cell_type": "code",
   "execution_count": 8,
   "metadata": {
    "colab": {
     "base_uri": "https://localhost:8080/",
     "height": 300
    },
    "id": "Aqxrg1PllS_0",
    "outputId": "d9d815f1-075a-4637-ac06-a2e6d62266c0"
   },
   "outputs": [
    {
     "data": {
      "text/html": [
       "<div>\n",
       "<style scoped>\n",
       "    .dataframe tbody tr th:only-of-type {\n",
       "        vertical-align: middle;\n",
       "    }\n",
       "\n",
       "    .dataframe tbody tr th {\n",
       "        vertical-align: top;\n",
       "    }\n",
       "\n",
       "    .dataframe thead th {\n",
       "        text-align: right;\n",
       "    }\n",
       "</style>\n",
       "<table border=\"1\" class=\"dataframe\">\n",
       "  <thead>\n",
       "    <tr style=\"text-align: right;\">\n",
       "      <th></th>\n",
       "      <th>Pregnancies</th>\n",
       "      <th>Glucose</th>\n",
       "      <th>SkinThickness</th>\n",
       "      <th>Insulin</th>\n",
       "      <th>Age</th>\n",
       "      <th>BMIxThickness</th>\n",
       "      <th>BMIxAge</th>\n",
       "      <th>Outcome</th>\n",
       "    </tr>\n",
       "  </thead>\n",
       "  <tbody>\n",
       "    <tr>\n",
       "      <th>count</th>\n",
       "      <td>500.000000</td>\n",
       "      <td>500.000000</td>\n",
       "      <td>500.000000</td>\n",
       "      <td>500.000000</td>\n",
       "      <td>500.000000</td>\n",
       "      <td>500.000000</td>\n",
       "      <td>500.000000</td>\n",
       "      <td>500.0</td>\n",
       "    </tr>\n",
       "    <tr>\n",
       "      <th>mean</th>\n",
       "      <td>0.194000</td>\n",
       "      <td>0.429819</td>\n",
       "      <td>0.219239</td>\n",
       "      <td>0.124005</td>\n",
       "      <td>0.169833</td>\n",
       "      <td>0.203207</td>\n",
       "      <td>0.251135</td>\n",
       "      <td>0.0</td>\n",
       "    </tr>\n",
       "    <tr>\n",
       "      <th>std</th>\n",
       "      <td>0.177481</td>\n",
       "      <td>0.159380</td>\n",
       "      <td>0.092575</td>\n",
       "      <td>0.090968</td>\n",
       "      <td>0.194461</td>\n",
       "      <td>0.114243</td>\n",
       "      <td>0.176720</td>\n",
       "      <td>0.0</td>\n",
       "    </tr>\n",
       "    <tr>\n",
       "      <th>min</th>\n",
       "      <td>0.000000</td>\n",
       "      <td>0.000000</td>\n",
       "      <td>0.000000</td>\n",
       "      <td>0.001202</td>\n",
       "      <td>0.000000</td>\n",
       "      <td>0.000000</td>\n",
       "      <td>0.000000</td>\n",
       "      <td>0.0</td>\n",
       "    </tr>\n",
       "    <tr>\n",
       "      <th>25%</th>\n",
       "      <td>0.058824</td>\n",
       "      <td>0.316129</td>\n",
       "      <td>0.163043</td>\n",
       "      <td>0.097356</td>\n",
       "      <td>0.033333</td>\n",
       "      <td>0.125964</td>\n",
       "      <td>0.115582</td>\n",
       "      <td>0.0</td>\n",
       "    </tr>\n",
       "    <tr>\n",
       "      <th>50%</th>\n",
       "      <td>0.117647</td>\n",
       "      <td>0.406452</td>\n",
       "      <td>0.217391</td>\n",
       "      <td>0.106370</td>\n",
       "      <td>0.100000</td>\n",
       "      <td>0.185132</td>\n",
       "      <td>0.206584</td>\n",
       "      <td>0.0</td>\n",
       "    </tr>\n",
       "    <tr>\n",
       "      <th>75%</th>\n",
       "      <td>0.294118</td>\n",
       "      <td>0.522581</td>\n",
       "      <td>0.260870</td>\n",
       "      <td>0.109375</td>\n",
       "      <td>0.266667</td>\n",
       "      <td>0.255589</td>\n",
       "      <td>0.334521</td>\n",
       "      <td>0.0</td>\n",
       "    </tr>\n",
       "    <tr>\n",
       "      <th>max</th>\n",
       "      <td>0.764706</td>\n",
       "      <td>0.987097</td>\n",
       "      <td>0.576087</td>\n",
       "      <td>0.877404</td>\n",
       "      <td>1.000000</td>\n",
       "      <td>0.740860</td>\n",
       "      <td>1.000000</td>\n",
       "      <td>0.0</td>\n",
       "    </tr>\n",
       "  </tbody>\n",
       "</table>\n",
       "</div>"
      ],
      "text/plain": [
       "       Pregnancies     Glucose  SkinThickness     Insulin         Age  \\\n",
       "count   500.000000  500.000000     500.000000  500.000000  500.000000   \n",
       "mean      0.194000    0.429819       0.219239    0.124005    0.169833   \n",
       "std       0.177481    0.159380       0.092575    0.090968    0.194461   \n",
       "min       0.000000    0.000000       0.000000    0.001202    0.000000   \n",
       "25%       0.058824    0.316129       0.163043    0.097356    0.033333   \n",
       "50%       0.117647    0.406452       0.217391    0.106370    0.100000   \n",
       "75%       0.294118    0.522581       0.260870    0.109375    0.266667   \n",
       "max       0.764706    0.987097       0.576087    0.877404    1.000000   \n",
       "\n",
       "       BMIxThickness     BMIxAge  Outcome  \n",
       "count     500.000000  500.000000    500.0  \n",
       "mean        0.203207    0.251135      0.0  \n",
       "std         0.114243    0.176720      0.0  \n",
       "min         0.000000    0.000000      0.0  \n",
       "25%         0.125964    0.115582      0.0  \n",
       "50%         0.185132    0.206584      0.0  \n",
       "75%         0.255589    0.334521      0.0  \n",
       "max         0.740860    1.000000      0.0  "
      ]
     },
     "execution_count": 8,
     "metadata": {},
     "output_type": "execute_result"
    }
   ],
   "source": [
    "data[data['Outcome'] == 0].describe()"
   ]
  },
  {
   "cell_type": "code",
   "execution_count": 4,
   "metadata": {
    "id": "9tRRQu-UlWzt"
   },
   "outputs": [],
   "source": [
    "from sklearn.svm import SVC\n",
    "from pandas import set_option\n",
    "from sklearn.preprocessing import StandardScaler\n",
    "from sklearn.model_selection import train_test_split\n",
    "from sklearn.model_selection import KFold\n",
    "from sklearn.model_selection import StratifiedKFold\n",
    "from sklearn.model_selection import cross_val_score\n",
    "from sklearn.model_selection import GridSearchCV\n",
    "from sklearn.metrics import classification_report\n",
    "from sklearn.metrics import confusion_matrix\n",
    "from sklearn.metrics import accuracy_score\n",
    "from sklearn.pipeline import Pipeline\n",
    "from sklearn.model_selection import RepeatedStratifiedKFold\n",
    "from sklearn.metrics import classification_report,confusion_matrix\n",
    "from sklearn.metrics import f1_score, precision_score, recall_score\n",
    "from sklearn.model_selection import GridSearchCV"
   ]
  },
  {
   "cell_type": "code",
   "execution_count": 5,
   "metadata": {
    "id": "FvSG_3XclZuH"
   },
   "outputs": [],
   "source": [
    "from sklearn.model_selection import train_test_split\n",
    "X = data.drop('Outcome', axis=1)\n",
    "y = data['Outcome']\n",
    "X_train,X_test,Y_train,Y_test = train_test_split(X,y,test_size=0.2,random_state=42)"
   ]
  },
  {
   "cell_type": "markdown",
   "metadata": {
    "id": "aAL9lo9Rle7E"
   },
   "source": [
    "##Support Vector Machine"
   ]
  },
  {
   "cell_type": "code",
   "execution_count": 11,
   "metadata": {
    "colab": {
     "base_uri": "https://localhost:8080/"
    },
    "id": "ehacFrqJli-7",
    "outputId": "965cc03c-5383-4e32-d615-72ac69ea77ae"
   },
   "outputs": [
    {
     "name": "stdout",
     "output_type": "stream",
     "text": [
      "Train Set Accuracy:83.55048859934854\n",
      "Test Set Accuracy:78.57142857142857\n"
     ]
    }
   ],
   "source": [
    "svm = SVC()\n",
    "svm.fit(X_train,Y_train)\n",
    "\n",
    "svm_acc= accuracy_score(Y_test,svm.predict(X_test))\n",
    "\n",
    "\n",
    "print(\"Train Set Accuracy:\"+str(accuracy_score(Y_train,svm.predict(X_train))*100))\n",
    "print(\"Test Set Accuracy:\"+str(accuracy_score(Y_test,svm.predict(X_test))*100))"
   ]
  },
  {
   "cell_type": "markdown",
   "metadata": {
    "id": "PWylAvlmlpSP"
   },
   "source": [
    "Now we will optimize the hyperparameters using Grid Search to improve the accuracy scores"
   ]
  },
  {
   "cell_type": "code",
   "execution_count": 6,
   "metadata": {
    "id": "kvxtkd-Ilp9s"
   },
   "outputs": [],
   "source": [
    "model = SVC()\n",
    "kernel = ['poly', 'rbf', 'sigmoid']\n",
    "C = [50, 10, 1.0, 0.1, 0.01]\n",
    "gamma = ['scale']"
   ]
  },
  {
   "cell_type": "code",
   "execution_count": 7,
   "metadata": {
    "id": "CPonlzJkltQy"
   },
   "outputs": [],
   "source": [
    "# define grid search\n",
    "grid = dict(kernel=kernel,C=C,gamma=gamma)\n",
    "cv = RepeatedStratifiedKFold(n_splits=10, n_repeats=3, random_state=1)\n",
    "grid_search = GridSearchCV(estimator=model, param_grid=grid, n_jobs=-1, cv=cv, scoring='f1',error_score=0)"
   ]
  },
  {
   "cell_type": "code",
   "execution_count": 8,
   "metadata": {
    "id": "uAA6jL_ylvsP"
   },
   "outputs": [],
   "source": [
    "grid_result = grid_search.fit(X, y)"
   ]
  },
  {
   "cell_type": "code",
   "execution_count": 9,
   "metadata": {
    "id": "i_KsiKaTlx2B"
   },
   "outputs": [],
   "source": [
    "svm_pred=grid_result.predict(X_test)"
   ]
  },
  {
   "cell_type": "code",
   "execution_count": 10,
   "metadata": {},
   "outputs": [
    {
     "name": "stdout",
     "output_type": "stream",
     "text": [
      "{'C': 50, 'gamma': 'scale', 'kernel': 'rbf'}\n"
     ]
    }
   ],
   "source": [
    "print(grid_search.best_params_)"
   ]
  },
  {
   "cell_type": "code",
   "execution_count": 16,
   "metadata": {
    "colab": {
     "base_uri": "https://localhost:8080/"
    },
    "id": "8lct7D9ElzwJ",
    "outputId": "80127867-4c1a-41b6-b852-509364de4cd3"
   },
   "outputs": [
    {
     "name": "stdout",
     "output_type": "stream",
     "text": [
      "Train Set Accuracy:91.69381107491856\n",
      "Test Set Accuracy:93.5064935064935\n"
     ]
    }
   ],
   "source": [
    "svm_acc= accuracy_score(Y_test,grid_result.predict(X_test))\n",
    "\n",
    "\n",
    "print(\"Train Set Accuracy:\"+str(accuracy_score(Y_train,grid_result.predict(X_train))*100))\n",
    "print(\"Test Set Accuracy:\"+str(accuracy_score(Y_test,grid_result.predict(X_test))*100))"
   ]
  },
  {
   "cell_type": "code",
   "execution_count": 17,
   "metadata": {
    "colab": {
     "base_uri": "https://localhost:8080/",
     "height": 621
    },
    "id": "S5YKsaR9l1wC",
    "outputId": "0b408f0c-4b2d-463a-d8da-934ffe59629a"
   },
   "outputs": [
    {
     "name": "stdout",
     "output_type": "stream",
     "text": [
      "Classification Report is:\n",
      "               precision    recall  f1-score   support\n",
      "\n",
      "           0       0.92      0.98      0.95        89\n",
      "           1       0.97      0.88      0.92        65\n",
      "\n",
      "    accuracy                           0.94       154\n",
      "   macro avg       0.94      0.93      0.93       154\n",
      "weighted avg       0.94      0.94      0.93       154\n",
      "\n"
     ]
    },
    {
     "data": {
      "text/plain": [
       "<AxesSubplot:>"
      ]
     },
     "execution_count": 17,
     "metadata": {},
     "output_type": "execute_result"
    },
    {
     "data": {
      "image/png": "[encoded data removed]",
      "text/plain": [
       "<Figure size 432x288 with 2 Axes>"
      ]
     },
     "metadata": {
      "needs_background": "light"
     },
     "output_type": "display_data"
    }
   ],
   "source": [
    "print(\"Classification Report is:\\n\",classification_report(Y_test,svm_pred))\n",
    "sns.heatmap(confusion_matrix(Y_test,svm_pred))"
   ]
  },
  {
   "cell_type": "markdown",
   "metadata": {
    "id": "Ijn1Y6-8l7bz"
   },
   "source": [
    "Note that the accuracy scores significantly improved after optimizing the hyperparamters for SVC"
   ]
  },
  {
   "cell_type": "code",
   "execution_count": 11,
   "metadata": {
    "colab": {
     "base_uri": "https://localhost:8080/"
    },
    "id": "Vk7EpO27fxV6",
    "outputId": "d05ef29e-2d01-4b8b-eebf-11fb5217563e"
   },
   "outputs": [
    {
     "name": "stdout",
     "output_type": "stream",
     "text": [
      "0.935064935064935\n"
     ]
    }
   ],
   "source": [
    "import pickle\n",
    "import os\n",
    "import sys\n",
    "import pandas as pd\n",
    "from sklearn.metrics import accuracy_score\n",
    "from sklearn.preprocessing import MinMaxScaler\n",
    "\n",
    "\n",
    "#For training\n",
    "def train():\n",
    "    data= pd.read_csv('final_dataset_phase2.csv')\n",
    "    X = data[['Pregnancies','Glucose','SkinThickness','Insulin','Age','BMIxThickness','BMIxAge']]\n",
    "    Y = data[['Outcome']]\n",
    "\n",
    "    #train test split\n",
    "    from sklearn.model_selection import train_test_split\n",
    "    #X = data.drop('Outcome', axis=1)\n",
    "    #y = data['Outcome']\n",
    "    X_train,X_test,Y_train,Y_test = train_test_split(X,Y,test_size=0.2,random_state=42)\n",
    "\n",
    "    from sklearn.svm import SVC\n",
    "    model = SVC()\n",
    "    kernel = ['poly', 'rbf', 'sigmoid']\n",
    "    C = [50, 10, 1.0, 0.1, 0.01]\n",
    "    gamma = ['scale']\n",
    "    # define grid search\n",
    "    grid = dict(kernel=kernel,C=C,gamma=gamma)\n",
    "    cv = RepeatedStratifiedKFold(n_splits=10, n_repeats=3, random_state=1)\n",
    "    grid_search = GridSearchCV(estimator=model, param_grid=grid, n_jobs=-1, cv=cv, scoring='f1',error_score=0)\n",
    "    svc = grid_search.fit(X, y)\n",
    "\n",
    "    #model = SVC(kernel='linear')\n",
    "    #svc=model.fit(X_train,Y_train)\n",
    "\n",
    "    #Save Model As Pickle File\n",
    "    with open('svc.pkl','wb') as m:\n",
    "        pickle.dump(svc,m)\n",
    "    test(X_test,Y_test)\n",
    "\n",
    "#Test accuracy of the model\n",
    "def test(X_test,Y_test):\n",
    "    with open('svc.pkl','rb') as mod:\n",
    "        p=pickle.load(mod)\n",
    "\n",
    "    pre=p.predict(X_test)\n",
    "    print (accuracy_score(Y_test,pre)) #Prints the accuracy of the model\n",
    "\n",
    "\n",
    "def find_data_file(filename):\n",
    "    if getattr(sys, \"frozen\", False):\n",
    "        # The application is frozen.\n",
    "        datadir = os.path.dirname(sys.executable)\n",
    "    else:\n",
    "        # The application is not frozen.\n",
    "        datadir = os.path.dirname(__file__)\n",
    "\n",
    "    return os.path.join(datadir, filename)\n",
    "\n",
    "\n",
    "def check_input(data) -> int:\n",
    "    df = pd.DataFrame(data=data, index=[0])\n",
    "    columns = ['Pregnancies', 'Glucose', 'SkinThickness', 'Insulin', 'Age', 'BMIxThickness', 'BMIxAge']\n",
    "\n",
    "    scaler = MinMaxScaler()  \n",
    "    df_normalized = scaler.fit_transform(df[columns])\n",
    "    with open(find_data_file('svc.pkl'), 'rb') as model:\n",
    "        p = pickle.load(model)\n",
    "    op = p.predict(df_normalized)\n",
    "    return op[0]\n",
    "\n",
    "if __name__=='__main__':\n",
    "    train()"
   ]
  }
 ],
 "metadata": {
  "colab": {
   "provenance": []
  },
  "kernelspec": {
   "display_name": "Python 3 (ipykernel)",
   "language": "python",
   "name": "python3"
  },
  "language_info": {
   "codemirror_mode": {
    "name": "ipython",
    "version": 3
   },
   "file_extension": ".py",
   "mimetype": "text/x-python",
   "name": "python",
   "nbconvert_exporter": "python",
   "pygments_lexer": "ipython3",
   "version": "3.9.7"
  }
 },
 "nbformat": 4,
 "nbformat_minor": 1
}
